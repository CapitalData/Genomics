{
 "cells": [
  {
   "cell_type": "code",
   "execution_count": 1,
   "metadata": {
    "collapsed": true
   },
   "outputs": [],
   "source": [
    "%matplotlib inline\n",
    "import pandas as pd\n",
    "import numpy as np\n",
    "import matplotlib.pyplot as plt\n",
    "import seaborn as sns"
   ]
  },
  {
   "cell_type": "code",
   "execution_count": 6,
   "metadata": {
    "collapsed": false
   },
   "outputs": [],
   "source": [
    "matrix_df = pd.read_csv('/Users/nathanielblack/Downloads/MatrixGenomDt_Mt_T.csv', sep ='\\t', index_col=False)\n",
    "all_mutations = [mut for mut in matrix_df.columns if mut != 'Mut']"
   ]
  },
  {
   "cell_type": "code",
   "execution_count": 9,
   "metadata": {
    "collapsed": false
   },
   "outputs": [],
   "source": [
    "genomic_df = pd.read_csv('/Users/nathanielblack/Downloads/genomicDtMt.csv')\n",
    "people = genomic_df['Family ID'].unique()\n",
    "severity = genomic_df['Clinical_Significance'].unique()"
   ]
  },
  {
   "cell_type": "code",
   "execution_count": 17,
   "metadata": {
    "collapsed": false
   },
   "outputs": [],
   "source": [
    "all_mutations = pd.DataFrame(all_mutations, columns=['Mut'])"
   ]
  },
  {
   "cell_type": "code",
   "execution_count": 25,
   "metadata": {
    "collapsed": false
   },
   "outputs": [],
   "source": [
    "people_columns = genomic_df.pivot_table(index = 'Mut', columns='Sample', values='Clinical_Significance')\n",
    "people_columns = people_columns.reset_index()"
   ]
  },
  {
   "cell_type": "code",
   "execution_count": 49,
   "metadata": {
    "collapsed": false
   },
   "outputs": [],
   "source": [
    "mut_by_person_df = all_mutations.merge(people_columns, how='left', on='Mut')\n",
    "mut_by_person_df.fillna(0, inplace=True)\n",
    "mut_by_person_df.set_index('Mut', inplace=True)"
   ]
  },
  {
   "cell_type": "code",
   "execution_count": 89,
   "metadata": {
    "collapsed": false
   },
   "outputs": [],
   "source": [
    "#Add Population Info\n",
    "population_info = genomic_df[['Sample','Population']].drop_duplicates()\n",
    "pop_df = mut_by_person_df.T\n",
    "pop_df['Sample'] = pop_df.index\n",
    "pop_df = pop_df.merge(population_info, how='left', on='Sample')\n",
    "pop_df.set_index(['Population','Sample'], inplace=True)"
   ]
  },
  {
   "cell_type": "code",
   "execution_count": 99,
   "metadata": {
    "collapsed": false
   },
   "outputs": [
    {
     "data": {
      "image/png": "[encoded data removed]",
      "text/plain": [
       "<matplotlib.figure.Figure at 0x10c13fb90>"
      ]
     },
     "metadata": {},
     "output_type": "display_data"
    }
   ],
   "source": [
    "ax = sns.heatmap(pop_df.ix['GBR'])\n",
    "ax.xaxis.set_visible(False)\n",
    "ax.yaxis.set_visible(False)\n",
    "plt.show;"
   ]
  },
  {
   "cell_type": "code",
   "execution_count": null,
   "metadata": {
    "collapsed": true
   },
   "outputs": [],
   "source": []
  }
 ],
 "metadata": {
  "kernelspec": {
   "display_name": "Python 2",
   "language": "python",
   "name": "python2"
  },
  "language_info": {
   "codemirror_mode": {
    "name": "ipython",
    "version": 2
   },
   "file_extension": ".py",
   "mimetype": "text/x-python",
   "name": "python",
   "nbconvert_exporter": "python",
   "pygments_lexer": "ipython2",
   "version": "2.7.10"
  }
 },
 "nbformat": 4,
 "nbformat_minor": 0
}

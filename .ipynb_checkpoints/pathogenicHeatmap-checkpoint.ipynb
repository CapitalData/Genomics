{
 "cells": [
  {
   "cell_type": "code",
   "execution_count": 15,
   "metadata": {
    "collapsed": true
   },
   "outputs": [],
   "source": [
    "%matplotlib inline\n",
    "import pandas as pd\n",
    "import numpy as np\n",
    "import matplotlib.pyplot as plt\n",
    "import seaborn as sns"
   ]
  },
  {
   "cell_type": "markdown",
   "metadata": {},
   "source": [
    "#Get All Possible Mutations\n",
    "Using the matrix data, grab all possible mutations"
   ]
  },
  {
   "cell_type": "code",
   "execution_count": 16,
   "metadata": {
    "collapsed": true
   },
   "outputs": [],
   "source": [
    "matrix_df = pd.read_csv('/Users/nathanielblack/Downloads/MatrixGenomDt_Mt_T.csv', sep ='\\t', index_col=False)\n",
    "all_mutations = [mut for mut in matrix_df.columns if mut != 'Mut']"
   ]
  },
  {
   "cell_type": "markdown",
   "metadata": {},
   "source": [
    "#Get the IDs We Use in Viz2\n",
    "- Load the data used in Viz2\n",
    "- Pivot the data so we have a column for each *Sample* with the *Clinical_Significance* as the value"
   ]
  },
  {
   "cell_type": "code",
   "execution_count": 17,
   "metadata": {
    "collapsed": false
   },
   "outputs": [],
   "source": [
    "genomic_df = pd.read_csv('/Users/nathanielblack/Downloads/genomicDtMt.csv')"
   ]
  },
  {
   "cell_type": "code",
   "execution_count": 18,
   "metadata": {
    "collapsed": false
   },
   "outputs": [],
   "source": [
    "all_mutations = pd.DataFrame(all_mutations, columns=['Mut'])"
   ]
  },
  {
   "cell_type": "code",
   "execution_count": 19,
   "metadata": {
    "collapsed": false
   },
   "outputs": [],
   "source": [
    "severity_map = {0:0,1:0,2:0,3:0,4:-1,5:-2}\n",
    "genomic_df['Severity'] = genomic_df['Clinical_Significance'].map(severity_map)\n",
    "people_columns = genomic_df.pivot_table(index = 'Mut', columns='Sample', values='Severity')\n",
    "people_columns = people_columns.reset_index()"
   ]
  },
  {
   "cell_type": "markdown",
   "metadata": {},
   "source": [
    "#Combine All Mutations and Viz2 Data\n",
    "- Left join the viz2 data to the all mutation data\n",
    "- Replace NA with 0\n",
    "\n",
    "Result will be a matrix of mutation by person with severity as the values"
   ]
  },
  {
   "cell_type": "code",
   "execution_count": 20,
   "metadata": {
    "collapsed": false
   },
   "outputs": [],
   "source": [
    "mut_by_person_df = all_mutations.merge(people_columns, how='left', on='Mut')\n",
    "mut_by_person_df.fillna(0, inplace=True)\n",
    "mut_by_person_df.set_index('Mut', inplace=True)"
   ]
  },
  {
   "cell_type": "markdown",
   "metadata": {},
   "source": [
    "#Add Population Info\n",
    "- create an ID to population map\n",
    "- Append the population info to the mutation by person matrix"
   ]
  },
  {
   "cell_type": "code",
   "execution_count": 21,
   "metadata": {
    "collapsed": false
   },
   "outputs": [],
   "source": [
    "population_info = genomic_df[['Sample','Population']].drop_duplicates()\n",
    "pop_df = mut_by_person_df.T\n",
    "pop_df['Sample'] = pop_df.index\n",
    "pop_df = pop_df.merge(population_info, how='left', on='Sample')\n",
    "pop_df.set_index(['Population','Sample'], inplace=True)"
   ]
  },
  {
   "cell_type": "markdown",
   "metadata": {},
   "source": [
    "#Heatmap\n",
    "We now have a dataframe that can be used as a heatmap"
   ]
  },
  {
   "cell_type": "code",
   "execution_count": 22,
   "metadata": {
    "collapsed": false
   },
   "outputs": [],
   "source": [
    "#for pop in genomic_df.Population.unique().tolist()[:-1]:\n",
    "#    print \"*\"*20 + pop + \"*\"*20\n",
    "#    ax = sns.heatmap(pop_df.ix[pop])\n",
    "#    ax.xaxis.set_visible(False)\n",
    "#    ax.yaxis.set_visible(False)\n",
    "#    plt.ylabel('Person')\n",
    "#    plt.xlabel('Mutation')\n",
    "#    plt.show();"
   ]
  },
  {
   "cell_type": "code",
   "execution_count": 23,
   "metadata": {
    "collapsed": false
   },
   "outputs": [
    {
     "data": {
      "text/html": [
       "<div>\n",
       "<table border=\"1\" class=\"dataframe\">\n",
       "  <thead>\n",
       "    <tr style=\"text-align: right;\">\n",
       "      <th></th>\n",
       "      <th>Mut</th>\n",
       "      <th>chrMT-827-G</th>\n",
       "      <th>chrMT-951-A</th>\n",
       "      <th>chrMT-961-CG</th>\n",
       "      <th>chrMT-980-C</th>\n",
       "      <th>chrMT-990-C</th>\n",
       "      <th>chrMT-1005-C</th>\n",
       "      <th>chrMT-1007-A</th>\n",
       "      <th>chrMT-1008-G</th>\n",
       "      <th>chrMT-1018-A</th>\n",
       "      <th>chrMT-1027-G</th>\n",
       "      <th>...</th>\n",
       "      <th>chrMT-15553-A</th>\n",
       "      <th>chrMT-15607-G</th>\n",
       "      <th>chrMT-15637-T</th>\n",
       "      <th>chrMT-15649-G</th>\n",
       "      <th>chrMT-15670-C</th>\n",
       "      <th>chrMT-15682-G</th>\n",
       "      <th>chrMT-15758-G</th>\n",
       "      <th>chrMT-15784-C</th>\n",
       "      <th>chrMT-15812-A</th>\n",
       "      <th>chrMT-15927-A</th>\n",
       "    </tr>\n",
       "    <tr>\n",
       "      <th>Population</th>\n",
       "      <th>Sample</th>\n",
       "      <th></th>\n",
       "      <th></th>\n",
       "      <th></th>\n",
       "      <th></th>\n",
       "      <th></th>\n",
       "      <th></th>\n",
       "      <th></th>\n",
       "      <th></th>\n",
       "      <th></th>\n",
       "      <th></th>\n",
       "      <th></th>\n",
       "      <th></th>\n",
       "      <th></th>\n",
       "      <th></th>\n",
       "      <th></th>\n",
       "      <th></th>\n",
       "      <th></th>\n",
       "      <th></th>\n",
       "      <th></th>\n",
       "      <th></th>\n",
       "      <th></th>\n",
       "    </tr>\n",
       "  </thead>\n",
       "  <tbody>\n",
       "    <tr>\n",
       "      <th rowspan=\"5\" valign=\"top\">GBR</th>\n",
       "      <th>HG00096</th>\n",
       "      <td>0</td>\n",
       "      <td>0</td>\n",
       "      <td>0</td>\n",
       "      <td>0</td>\n",
       "      <td>0</td>\n",
       "      <td>0</td>\n",
       "      <td>0</td>\n",
       "      <td>0</td>\n",
       "      <td>0</td>\n",
       "      <td>0</td>\n",
       "      <td>...</td>\n",
       "      <td>0</td>\n",
       "      <td>0</td>\n",
       "      <td>0</td>\n",
       "      <td>0</td>\n",
       "      <td>0</td>\n",
       "      <td>0</td>\n",
       "      <td>0</td>\n",
       "      <td>0</td>\n",
       "      <td>0</td>\n",
       "      <td>0</td>\n",
       "    </tr>\n",
       "    <tr>\n",
       "      <th>HG00097</th>\n",
       "      <td>0</td>\n",
       "      <td>0</td>\n",
       "      <td>0</td>\n",
       "      <td>0</td>\n",
       "      <td>0</td>\n",
       "      <td>0</td>\n",
       "      <td>0</td>\n",
       "      <td>0</td>\n",
       "      <td>0</td>\n",
       "      <td>0</td>\n",
       "      <td>...</td>\n",
       "      <td>0</td>\n",
       "      <td>-1</td>\n",
       "      <td>0</td>\n",
       "      <td>0</td>\n",
       "      <td>0</td>\n",
       "      <td>0</td>\n",
       "      <td>0</td>\n",
       "      <td>0</td>\n",
       "      <td>0</td>\n",
       "      <td>0</td>\n",
       "    </tr>\n",
       "    <tr>\n",
       "      <th>HG00099</th>\n",
       "      <td>0</td>\n",
       "      <td>0</td>\n",
       "      <td>0</td>\n",
       "      <td>0</td>\n",
       "      <td>0</td>\n",
       "      <td>0</td>\n",
       "      <td>0</td>\n",
       "      <td>0</td>\n",
       "      <td>0</td>\n",
       "      <td>0</td>\n",
       "      <td>...</td>\n",
       "      <td>-1</td>\n",
       "      <td>0</td>\n",
       "      <td>0</td>\n",
       "      <td>0</td>\n",
       "      <td>0</td>\n",
       "      <td>0</td>\n",
       "      <td>0</td>\n",
       "      <td>0</td>\n",
       "      <td>0</td>\n",
       "      <td>0</td>\n",
       "    </tr>\n",
       "    <tr>\n",
       "      <th>HG00100</th>\n",
       "      <td>0</td>\n",
       "      <td>0</td>\n",
       "      <td>0</td>\n",
       "      <td>0</td>\n",
       "      <td>0</td>\n",
       "      <td>0</td>\n",
       "      <td>0</td>\n",
       "      <td>0</td>\n",
       "      <td>0</td>\n",
       "      <td>0</td>\n",
       "      <td>...</td>\n",
       "      <td>0</td>\n",
       "      <td>0</td>\n",
       "      <td>0</td>\n",
       "      <td>0</td>\n",
       "      <td>0</td>\n",
       "      <td>0</td>\n",
       "      <td>0</td>\n",
       "      <td>0</td>\n",
       "      <td>0</td>\n",
       "      <td>-1</td>\n",
       "    </tr>\n",
       "    <tr>\n",
       "      <th>HG00101</th>\n",
       "      <td>0</td>\n",
       "      <td>0</td>\n",
       "      <td>0</td>\n",
       "      <td>0</td>\n",
       "      <td>0</td>\n",
       "      <td>0</td>\n",
       "      <td>0</td>\n",
       "      <td>0</td>\n",
       "      <td>0</td>\n",
       "      <td>0</td>\n",
       "      <td>...</td>\n",
       "      <td>0</td>\n",
       "      <td>0</td>\n",
       "      <td>0</td>\n",
       "      <td>0</td>\n",
       "      <td>0</td>\n",
       "      <td>0</td>\n",
       "      <td>0</td>\n",
       "      <td>0</td>\n",
       "      <td>0</td>\n",
       "      <td>0</td>\n",
       "    </tr>\n",
       "  </tbody>\n",
       "</table>\n",
       "<p>5 rows × 111 columns</p>\n",
       "</div>"
      ],
      "text/plain": [
       "Mut                 chrMT-827-G  chrMT-951-A  chrMT-961-CG  chrMT-980-C  \\\n",
       "Population Sample                                                         \n",
       "GBR        HG00096            0            0             0            0   \n",
       "           HG00097            0            0             0            0   \n",
       "           HG00099            0            0             0            0   \n",
       "           HG00100            0            0             0            0   \n",
       "           HG00101            0            0             0            0   \n",
       "\n",
       "Mut                 chrMT-990-C  chrMT-1005-C  chrMT-1007-A  chrMT-1008-G  \\\n",
       "Population Sample                                                           \n",
       "GBR        HG00096            0             0             0             0   \n",
       "           HG00097            0             0             0             0   \n",
       "           HG00099            0             0             0             0   \n",
       "           HG00100            0             0             0             0   \n",
       "           HG00101            0             0             0             0   \n",
       "\n",
       "Mut                 chrMT-1018-A  chrMT-1027-G      ...        chrMT-15553-A  \\\n",
       "Population Sample                                   ...                        \n",
       "GBR        HG00096             0             0      ...                    0   \n",
       "           HG00097             0             0      ...                    0   \n",
       "           HG00099             0             0      ...                   -1   \n",
       "           HG00100             0             0      ...                    0   \n",
       "           HG00101             0             0      ...                    0   \n",
       "\n",
       "Mut                 chrMT-15607-G  chrMT-15637-T  chrMT-15649-G  \\\n",
       "Population Sample                                                 \n",
       "GBR        HG00096              0              0              0   \n",
       "           HG00097             -1              0              0   \n",
       "           HG00099              0              0              0   \n",
       "           HG00100              0              0              0   \n",
       "           HG00101              0              0              0   \n",
       "\n",
       "Mut                 chrMT-15670-C  chrMT-15682-G  chrMT-15758-G  \\\n",
       "Population Sample                                                 \n",
       "GBR        HG00096              0              0              0   \n",
       "           HG00097              0              0              0   \n",
       "           HG00099              0              0              0   \n",
       "           HG00100              0              0              0   \n",
       "           HG00101              0              0              0   \n",
       "\n",
       "Mut                 chrMT-15784-C  chrMT-15812-A  chrMT-15927-A  \n",
       "Population Sample                                                \n",
       "GBR        HG00096              0              0              0  \n",
       "           HG00097              0              0              0  \n",
       "           HG00099              0              0              0  \n",
       "           HG00100              0              0             -1  \n",
       "           HG00101              0              0              0  \n",
       "\n",
       "[5 rows x 111 columns]"
      ]
     },
     "execution_count": 23,
     "metadata": {},
     "output_type": "execute_result"
    }
   ],
   "source": [
    "pop_df.head()"
   ]
  },
  {
   "cell_type": "code",
   "execution_count": 24,
   "metadata": {
    "collapsed": false
   },
   "outputs": [],
   "source": [
    "pop_df.reset_index(inplace=True)\n",
    "melt_vars = [col for col in pop_df.columns if col not in ['Population', 'Sample']]\n",
    "pop_df = pd.melt(pop_df, id_vars=['Population','Sample'], value_vars = melt_vars, value_name = 'Severity')"
   ]
  },
  {
   "cell_type": "code",
   "execution_count": 33,
   "metadata": {
    "collapsed": false
   },
   "outputs": [],
   "source": [
    "out = pop_df.copy(deep=True)\n",
    "out.sort(['Population'])\n",
    "out['col'] = pd.Categorical(out.Mut).codes"
   ]
  },
  {
   "cell_type": "code",
   "execution_count": 34,
   "metadata": {
    "collapsed": false
   },
   "outputs": [
    {
     "data": {
      "text/html": [
       "<div>\n",
       "<table border=\"1\" class=\"dataframe\">\n",
       "  <thead>\n",
       "    <tr style=\"text-align: right;\">\n",
       "      <th></th>\n",
       "      <th>Population</th>\n",
       "      <th>Sample</th>\n",
       "      <th>Mut</th>\n",
       "      <th>Severity</th>\n",
       "      <th>col</th>\n",
       "    </tr>\n",
       "  </thead>\n",
       "  <tbody>\n",
       "    <tr>\n",
       "      <th>0</th>\n",
       "      <td>GBR</td>\n",
       "      <td>HG00096</td>\n",
       "      <td>chrMT-827-G</td>\n",
       "      <td>0</td>\n",
       "      <td>102</td>\n",
       "    </tr>\n",
       "    <tr>\n",
       "      <th>1</th>\n",
       "      <td>GBR</td>\n",
       "      <td>HG00097</td>\n",
       "      <td>chrMT-827-G</td>\n",
       "      <td>0</td>\n",
       "      <td>102</td>\n",
       "    </tr>\n",
       "    <tr>\n",
       "      <th>2</th>\n",
       "      <td>GBR</td>\n",
       "      <td>HG00099</td>\n",
       "      <td>chrMT-827-G</td>\n",
       "      <td>0</td>\n",
       "      <td>102</td>\n",
       "    </tr>\n",
       "    <tr>\n",
       "      <th>3</th>\n",
       "      <td>GBR</td>\n",
       "      <td>HG00100</td>\n",
       "      <td>chrMT-827-G</td>\n",
       "      <td>0</td>\n",
       "      <td>102</td>\n",
       "    </tr>\n",
       "    <tr>\n",
       "      <th>4</th>\n",
       "      <td>GBR</td>\n",
       "      <td>HG00101</td>\n",
       "      <td>chrMT-827-G</td>\n",
       "      <td>0</td>\n",
       "      <td>102</td>\n",
       "    </tr>\n",
       "  </tbody>\n",
       "</table>\n",
       "</div>"
      ],
      "text/plain": [
       "  Population   Sample          Mut  Severity  col\n",
       "0        GBR  HG00096  chrMT-827-G         0  102\n",
       "1        GBR  HG00097  chrMT-827-G         0  102\n",
       "2        GBR  HG00099  chrMT-827-G         0  102\n",
       "3        GBR  HG00100  chrMT-827-G         0  102\n",
       "4        GBR  HG00101  chrMT-827-G         0  102"
      ]
     },
     "execution_count": 34,
     "metadata": {},
     "output_type": "execute_result"
    }
   ],
   "source": [
    "out.head()"
   ]
  },
  {
   "cell_type": "code",
   "execution_count": 36,
   "metadata": {
    "collapsed": false
   },
   "outputs": [
    {
     "name": "stdout",
     "output_type": "stream",
     "text": [
      "1271\n"
     ]
    }
   ],
   "source": [
    "df = out.copy(deep=True)\n",
    "df.sort('Population', inplace=True)\n",
    "df['row'] = pd.Categorical(df.Sample).codes\n",
    "print df.row.max()\n",
    "df = df[df.Severity != 0]\n",
    "df.sort(['Sample'], inplace=True)\n",
    "df.to_csv('/Users/nathanielblack/Dropbox/d3/heatmaps/overall_heatmap.csv', index=False)"
   ]
  },
  {
   "cell_type": "code",
   "execution_count": 30,
   "metadata": {
    "collapsed": false,
    "scrolled": true
   },
   "outputs": [
    {
     "data": {
      "text/plain": [
       "['GBR',\n",
       " 'FIN',\n",
       " 'CHS',\n",
       " 'PUR',\n",
       " 'CDX',\n",
       " 'CLM',\n",
       " 'IBS',\n",
       " 'PEL',\n",
       " 'PJL',\n",
       " 'KHV',\n",
       " 'ACB',\n",
       " 'GWD',\n",
       " 'ESN',\n",
       " 'BEB',\n",
       " 'MSL']"
      ]
     },
     "execution_count": 30,
     "metadata": {},
     "output_type": "execute_result"
    }
   ],
   "source": [
    "genomic_df.Population.unique().tolist()[:-1]"
   ]
  },
  {
   "cell_type": "code",
   "execution_count": null,
   "metadata": {
    "collapsed": true
   },
   "outputs": [],
   "source": []
  }
 ],
 "metadata": {
  "kernelspec": {
   "display_name": "Python 2",
   "language": "python",
   "name": "python2"
  },
  "language_info": {
   "codemirror_mode": {
    "name": "ipython",
    "version": 2
   },
   "file_extension": ".py",
   "mimetype": "text/x-python",
   "name": "python",
   "nbconvert_exporter": "python",
   "pygments_lexer": "ipython2",
   "version": "2.7.10"
  }
 },
 "nbformat": 4,
 "nbformat_minor": 0
}
